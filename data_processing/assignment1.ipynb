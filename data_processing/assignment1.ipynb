{
 "cells": [
  {
   "cell_type": "code",
   "execution_count": 13,
   "metadata": {},
   "outputs": [],
   "source": [
    "import pandas as pd\n",
    "import numpy as np"
   ]
  },
  {
   "cell_type": "code",
   "execution_count": 16,
   "metadata": {},
   "outputs": [
    {
     "name": "stderr",
     "output_type": "stream",
     "text": [
      "/var/folders/q_/9_6p6pz91bj5_f7fgx87n63h0000gn/T/ipykernel_9022/4124178451.py:1: DtypeWarning: Columns (25,51) have mixed types. Specify dtype option on import or set low_memory=False.\n",
      "  nfl = pd.read_csv(\"./dataset/nfl/NFL.csv\")\n"
     ]
    }
   ],
   "source": [
    "nfl = pd.read_csv(\"./dataset/nfl/NFL.csv\")"
   ]
  },
  {
   "cell_type": "code",
   "execution_count": 18,
   "metadata": {},
   "outputs": [
    {
     "data": {
      "text/plain": [
       "Date             0\n",
       "GameID           0\n",
       "Drive            0\n",
       "qtr              0\n",
       "down         54218\n",
       "             ...  \n",
       "Win_Prob     21993\n",
       "WPA           4817\n",
       "airWPA      220738\n",
       "yacWPA      220956\n",
       "Season           0\n",
       "Length: 102, dtype: int64"
      ]
     },
     "execution_count": 18,
     "metadata": {},
     "output_type": "execute_result"
    }
   ],
   "source": [
    "nfl.isnull().sum()"
   ]
  },
  {
   "cell_type": "code",
   "execution_count": null,
   "metadata": {},
   "outputs": [],
   "source": []
  }
 ],
 "metadata": {
  "kernelspec": {
   "display_name": "Python 3.8.13 ('jupyter')",
   "language": "python",
   "name": "python3"
  },
  "language_info": {
   "codemirror_mode": {
    "name": "ipython",
    "version": 3
   },
   "file_extension": ".py",
   "mimetype": "text/x-python",
   "name": "python",
   "nbconvert_exporter": "python",
   "pygments_lexer": "ipython3",
   "version": "3.8.13"
  },
  "orig_nbformat": 4,
  "vscode": {
   "interpreter": {
    "hash": "066e3b6de4e4750d2f7c1787615826883e39b68218f7931614fc07b2df387b27"
   }
  }
 },
 "nbformat": 4,
 "nbformat_minor": 2
}
